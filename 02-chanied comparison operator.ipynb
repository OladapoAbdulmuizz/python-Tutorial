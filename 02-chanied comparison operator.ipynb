{
 "cells": [
  {
   "cell_type": "code",
   "execution_count": 1,
   "id": "4871f6eb-9de7-4060-b83e-712dfce50614",
   "metadata": {},
   "outputs": [
    {
     "data": {
      "text/plain": [
       "True"
      ]
     },
     "execution_count": 1,
     "metadata": {},
     "output_type": "execute_result"
    }
   ],
   "source": [
    "1<2<3"
   ]
  },
  {
   "cell_type": "code",
   "execution_count": 2,
   "id": "dd7f4bf7-20f1-4396-b9f8-909314f23e2c",
   "metadata": {},
   "outputs": [
    {
     "data": {
      "text/plain": [
       "True"
      ]
     },
     "execution_count": 2,
     "metadata": {},
     "output_type": "execute_result"
    }
   ],
   "source": [
    "1<2 and 2<3\n",
    "\n",
    "# breaking down \n",
    "#1<2 = true\n",
    "#2<3 = true\n",
    "#true and true = true "
   ]
  },
  {
   "cell_type": "code",
   "execution_count": 3,
   "id": "c63379b6-948b-4b10-880b-7bee021e381f",
   "metadata": {},
   "outputs": [
    {
     "data": {
      "text/plain": [
       "False"
      ]
     },
     "execution_count": 3,
     "metadata": {},
     "output_type": "execute_result"
    }
   ],
   "source": [
    "2>3 and 2>1\n",
    "\n",
    "# breaking down\n",
    "# 2>3 = false\n",
    "# 2>1 = true\n",
    "# false and true = false "
   ]
  },
  {
   "cell_type": "code",
   "execution_count": 4,
   "id": "16df7da1-6a7e-4f6f-8bc4-fe8f8243ae46",
   "metadata": {},
   "outputs": [
    {
     "data": {
      "text/plain": [
       "True"
      ]
     },
     "execution_count": 4,
     "metadata": {},
     "output_type": "execute_result"
    }
   ],
   "source": [
    "2>3 or 2>1\n",
    "\n",
    "# breaking down\n",
    "# 2>3 = false\n",
    "# 2>1 = true\n",
    "# false or true = true "
   ]
  },
  {
   "cell_type": "code",
   "execution_count": 5,
   "id": "0f1e7029-afb6-4042-ab93-1eea71a9174e",
   "metadata": {},
   "outputs": [
    {
     "data": {
      "text/plain": [
       "True"
      ]
     },
     "execution_count": 5,
     "metadata": {},
     "output_type": "execute_result"
    }
   ],
   "source": [
    "1 == 2 or 2<3\n",
    "\n",
    "# breaking down\n",
    "# 1 == 2 = false\n",
    "# 2 < 3 = true\n",
    "# false or true = true "
   ]
  },
  {
   "cell_type": "code",
   "execution_count": 6,
   "id": "53361bcc-a995-4edd-a796-3e7121b87312",
   "metadata": {},
   "outputs": [
    {
     "data": {
      "text/plain": [
       "True"
      ]
     },
     "execution_count": 6,
     "metadata": {},
     "output_type": "execute_result"
    }
   ],
   "source": [
    "1==1 or 100==1"
   ]
  },
  {
   "cell_type": "code",
   "execution_count": 7,
   "id": "a64c9825-003e-462f-be15-20b5dc2aae86",
   "metadata": {},
   "outputs": [
    {
     "data": {
      "text/plain": [
       "False"
      ]
     },
     "execution_count": 7,
     "metadata": {},
     "output_type": "execute_result"
    }
   ],
   "source": [
    "#Write a code to check if a user is qualified to get admitted into the university\n",
    "\n",
    "user_age = 20\n",
    "# chcek if the user age is less than 16\n",
    "\n",
    "user_age < 16"
   ]
  },
  {
   "cell_type": "code",
   "execution_count": 14,
   "id": "c40c4076-f277-4b05-bcec-1c4f73a11599",
   "metadata": {},
   "outputs": [
    {
     "name": "stdin",
     "output_type": "stream",
     "text": [
      "Enter your age 12\n"
     ]
    },
    {
     "name": "stdout",
     "output_type": "stream",
     "text": [
      "Your age is 12\n"
     ]
    }
   ],
   "source": [
    "user_age = int (input(\"Enter your age\"))\n",
    "print(f'Your age is {user_age}')"
   ]
  },
  {
   "cell_type": "code",
   "execution_count": 15,
   "id": "ebb75173-9814-489c-a873-f2640bca0de8",
   "metadata": {},
   "outputs": [
    {
     "data": {
      "text/plain": [
       "int"
      ]
     },
     "execution_count": 15,
     "metadata": {},
     "output_type": "execute_result"
    }
   ],
   "source": [
    "type(user_age)"
   ]
  },
  {
   "cell_type": "code",
   "execution_count": 20,
   "id": "5fa0e7e9-62bf-4712-a041-72ff1b8842a8",
   "metadata": {
    "scrolled": true
   },
   "outputs": [
    {
     "name": "stdin",
     "output_type": "stream",
     "text": [
      "Enter your age 22\n"
     ]
    },
    {
     "name": "stdout",
     "output_type": "stream",
     "text": [
      "Your age is 22\n",
      "congrats! you can be admitted into our university\n"
     ]
    }
   ],
   "source": [
    "user_age = int (input(\"Enter your age\"))\n",
    "print(f'Your age is {user_age}')\n",
    "\n",
    "if user_age < 16:\n",
    "    print(f\"Sorry you cant be admitted cause you are {user_age} and its less than 16\")\n",
    "else:\n",
    "    print(\"congrats! you can be admitted into our university\")"
   ]
  },
  {
   "cell_type": "code",
   "execution_count": null,
   "id": "54ad6b7a-ba4f-42c7-a75c-e9a191f8f0da",
   "metadata": {},
   "outputs": [],
   "source": []
  }
 ],
 "metadata": {
  "kernelspec": {
   "display_name": "Python 3 (ipykernel)",
   "language": "python",
   "name": "python3"
  },
  "language_info": {
   "codemirror_mode": {
    "name": "ipython",
    "version": 3
   },
   "file_extension": ".py",
   "mimetype": "text/x-python",
   "name": "python",
   "nbconvert_exporter": "python",
   "pygments_lexer": "ipython3",
   "version": "3.12.7"
  }
 },
 "nbformat": 4,
 "nbformat_minor": 5
}
