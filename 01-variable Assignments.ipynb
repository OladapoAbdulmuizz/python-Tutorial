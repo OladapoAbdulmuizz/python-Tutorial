{
 "cells": [
  {
   "cell_type": "markdown",
   "id": "dab65dbd",
   "metadata": {},
   "source": [
    "Dynamic typing"
   ]
  },
  {
   "cell_type": "code",
   "execution_count": 1,
   "id": "288b1fc6",
   "metadata": {},
   "outputs": [],
   "source": [
    "my_dogs = 2"
   ]
  },
  {
   "cell_type": "code",
   "execution_count": 2,
   "id": "81fb3546",
   "metadata": {},
   "outputs": [
    {
     "data": {
      "text/plain": [
       "2"
      ]
     },
     "execution_count": 2,
     "metadata": {},
     "output_type": "execute_result"
    }
   ],
   "source": [
    "my_dogs"
   ]
  },
  {
   "cell_type": "code",
   "execution_count": 3,
   "id": "c8588912",
   "metadata": {},
   "outputs": [],
   "source": [
    "# reassign\n",
    "my_dogs = [\"sammy\", \"frankle\"]"
   ]
  },
  {
   "cell_type": "code",
   "execution_count": 4,
   "id": "ccdab7f8",
   "metadata": {},
   "outputs": [
    {
     "data": {
      "text/plain": [
       "['sammy', 'frankle']"
      ]
     },
     "execution_count": 4,
     "metadata": {},
     "output_type": "execute_result"
    }
   ],
   "source": [
    "my_dogs"
   ]
  },
  {
   "cell_type": "code",
   "execution_count": 5,
   "id": "3b9e6312",
   "metadata": {},
   "outputs": [
    {
     "data": {
      "text/plain": [
       "list"
      ]
     },
     "execution_count": 5,
     "metadata": {},
     "output_type": "execute_result"
    }
   ],
   "source": [
    "type(my_dogs)"
   ]
  },
  {
   "cell_type": "code",
   "execution_count": 6,
   "id": "af9fb9dd",
   "metadata": {},
   "outputs": [],
   "source": [
    "# Assigning variables\n",
    "#variables assignments follows name=object, where a single equals sign = is an assignment operator"
   ]
  },
  {
   "cell_type": "code",
   "execution_count": 7,
   "id": "8e4fd5d2",
   "metadata": {},
   "outputs": [],
   "source": [
    "a = 5"
   ]
  },
  {
   "cell_type": "code",
   "execution_count": 8,
   "id": "73504af9",
   "metadata": {},
   "outputs": [
    {
     "data": {
      "text/plain": [
       "5"
      ]
     },
     "execution_count": 8,
     "metadata": {},
     "output_type": "execute_result"
    }
   ],
   "source": [
    "a"
   ]
  },
  {
   "cell_type": "code",
   "execution_count": 9,
   "id": "5695e166",
   "metadata": {},
   "outputs": [],
   "source": [
    "a = a+5"
   ]
  },
  {
   "cell_type": "code",
   "execution_count": 10,
   "id": "9bc28300",
   "metadata": {},
   "outputs": [
    {
     "data": {
      "text/plain": [
       "10"
      ]
     },
     "execution_count": 10,
     "metadata": {},
     "output_type": "execute_result"
    }
   ],
   "source": [
    "a"
   ]
  },
  {
   "cell_type": "code",
   "execution_count": 11,
   "id": "c1024a85",
   "metadata": {},
   "outputs": [
    {
     "data": {
      "text/plain": [
       "int"
      ]
     },
     "execution_count": 11,
     "metadata": {},
     "output_type": "execute_result"
    }
   ],
   "source": [
    "type(a)"
   ]
  },
  {
   "cell_type": "markdown",
   "id": "5e023f5f",
   "metadata": {},
   "source": [
    "Shortcuts for this in python which makes you add,subtract,multipy,divide numbers using reassignments +=, -=, /=, *="
   ]
  },
  {
   "cell_type": "code",
   "execution_count": 23,
   "id": "1c83bbeb",
   "metadata": {},
   "outputs": [],
   "source": [
    "a = 10"
   ]
  },
  {
   "cell_type": "code",
   "execution_count": 24,
   "id": "d41e6c15",
   "metadata": {},
   "outputs": [],
   "source": [
    "a += 10"
   ]
  },
  {
   "cell_type": "code",
   "execution_count": 25,
   "id": "e4c236e1",
   "metadata": {},
   "outputs": [
    {
     "data": {
      "text/plain": [
       "20"
      ]
     },
     "execution_count": 25,
     "metadata": {},
     "output_type": "execute_result"
    }
   ],
   "source": [
    "a"
   ]
  },
  {
   "cell_type": "code",
   "execution_count": 26,
   "id": "608d4d75",
   "metadata": {},
   "outputs": [],
   "source": [
    "b = 3"
   ]
  },
  {
   "cell_type": "code",
   "execution_count": 27,
   "id": "ae4c9a3b",
   "metadata": {},
   "outputs": [],
   "source": [
    "b += 2"
   ]
  },
  {
   "cell_type": "code",
   "execution_count": 28,
   "id": "939a5eb5",
   "metadata": {},
   "outputs": [
    {
     "data": {
      "text/plain": [
       "5"
      ]
     },
     "execution_count": 28,
     "metadata": {},
     "output_type": "execute_result"
    }
   ],
   "source": [
    "b"
   ]
  },
  {
   "cell_type": "markdown",
   "id": "b79a2f2d",
   "metadata": {},
   "source": [
    "Determining variable type()"
   ]
  },
  {
   "cell_type": "code",
   "execution_count": 29,
   "id": "050a27b2",
   "metadata": {},
   "outputs": [],
   "source": [
    "cgpa = 4.96"
   ]
  },
  {
   "cell_type": "code",
   "execution_count": 30,
   "id": "40461d53",
   "metadata": {},
   "outputs": [
    {
     "data": {
      "text/plain": [
       "float"
      ]
     },
     "execution_count": 30,
     "metadata": {},
     "output_type": "execute_result"
    }
   ],
   "source": [
    "type(cgpa)"
   ]
  },
  {
   "cell_type": "code",
   "execution_count": 31,
   "id": "dc57592a",
   "metadata": {},
   "outputs": [],
   "source": [
    "salary = 50000"
   ]
  },
  {
   "cell_type": "code",
   "execution_count": 32,
   "id": "8a793844",
   "metadata": {},
   "outputs": [
    {
     "data": {
      "text/plain": [
       "int"
      ]
     },
     "execution_count": 32,
     "metadata": {},
     "output_type": "execute_result"
    }
   ],
   "source": [
    "type(salary)"
   ]
  },
  {
   "cell_type": "code",
   "execution_count": 34,
   "id": "5e3126e8",
   "metadata": {},
   "outputs": [],
   "source": [
    "#() parenthesis\n",
    "#[] square brackets\n",
    "#{} curly brace\n",
    "#<> angular brackets"
   ]
  },
  {
   "cell_type": "code",
   "execution_count": 36,
   "id": "148e2030",
   "metadata": {},
   "outputs": [],
   "source": [
    "dapo = [\"muizz\",\"olaniyi\",\"oladapo\"]"
   ]
  },
  {
   "cell_type": "code",
   "execution_count": 37,
   "id": "87d15868",
   "metadata": {},
   "outputs": [
    {
     "data": {
      "text/plain": [
       "list"
      ]
     },
     "execution_count": 37,
     "metadata": {},
     "output_type": "execute_result"
    }
   ],
   "source": [
    "type(dapo)"
   ]
  },
  {
   "cell_type": "code",
   "execution_count": 38,
   "id": "46574f3f",
   "metadata": {},
   "outputs": [],
   "source": [
    "dapo = {\"my key\": \"5\", \"name\":\"oladapo abdulmuizz\"}"
   ]
  },
  {
   "cell_type": "code",
   "execution_count": 39,
   "id": "65af9d1f",
   "metadata": {},
   "outputs": [
    {
     "data": {
      "text/plain": [
       "dict"
      ]
     },
     "execution_count": 39,
     "metadata": {},
     "output_type": "execute_result"
    }
   ],
   "source": [
    "type(dapo)"
   ]
  },
  {
   "cell_type": "code",
   "execution_count": 40,
   "id": "04fd9864",
   "metadata": {},
   "outputs": [],
   "source": [
    "dapo = (\"a\", \"b\",\"c\",\"d\",\"e\")"
   ]
  },
  {
   "cell_type": "code",
   "execution_count": 41,
   "id": "36745cab",
   "metadata": {},
   "outputs": [
    {
     "data": {
      "text/plain": [
       "tuple"
      ]
     },
     "execution_count": 41,
     "metadata": {},
     "output_type": "execute_result"
    }
   ],
   "source": [
    "type(dapo)"
   ]
  },
  {
   "cell_type": "code",
   "execution_count": 1,
   "id": "31c7c2a8",
   "metadata": {},
   "outputs": [],
   "source": [
    "dapo = (\"20\", \"hello\", \"ismail\", \"tohirah\")"
   ]
  },
  {
   "cell_type": "code",
   "execution_count": 2,
   "id": "77edea1b",
   "metadata": {},
   "outputs": [
    {
     "data": {
      "text/plain": [
       "tuple"
      ]
     },
     "execution_count": 2,
     "metadata": {},
     "output_type": "execute_result"
    }
   ],
   "source": [
    "type(dapo)"
   ]
  },
  {
   "cell_type": "code",
   "execution_count": null,
   "id": "fc5bc719",
   "metadata": {},
   "outputs": [],
   "source": []
  }
 ],
 "metadata": {
  "kernelspec": {
   "display_name": "Python 3 (ipykernel)",
   "language": "python",
   "name": "python3"
  },
  "language_info": {
   "codemirror_mode": {
    "name": "ipython",
    "version": 3
   },
   "file_extension": ".py",
   "mimetype": "text/x-python",
   "name": "python",
   "nbconvert_exporter": "python",
   "pygments_lexer": "ipython3",
   "version": "3.9.7"
  }
 },
 "nbformat": 4,
 "nbformat_minor": 5
}
