{
 "cells": [
  {
   "cell_type": "markdown",
   "id": "000e241c-8449-4c4a-a586-96dd7aa40f00",
   "metadata": {},
   "source": [
    "## While loops"
   ]
  },
  {
   "cell_type": "code",
   "execution_count": 2,
   "id": "d076a532-95d6-439f-9e44-3ecbba9219d5",
   "metadata": {},
   "outputs": [
    {
     "name": "stdout",
     "output_type": "stream",
     "text": [
      "x is currently: 0\n",
      "x is still less than 10, adding 1 to x\n",
      "x is currently: 1\n",
      "x is still less than 10, adding 1 to x\n",
      "x is currently: 2\n",
      "x is still less than 10, adding 1 to x\n",
      "x is currently: 3\n",
      "x is still less than 10, adding 1 to x\n",
      "x is currently: 4\n",
      "x is still less than 10, adding 1 to x\n",
      "x is currently: 5\n",
      "x is still less than 10, adding 1 to x\n",
      "x is currently: 6\n",
      "x is still less than 10, adding 1 to x\n",
      "x is currently: 7\n",
      "x is still less than 10, adding 1 to x\n",
      "x is currently: 8\n",
      "x is still less than 10, adding 1 to x\n",
      "x is currently: 9\n",
      "x is still less than 10, adding 1 to x\n"
     ]
    }
   ],
   "source": [
    "x = 0\n",
    "\n",
    "while x < 10:\n",
    "    print(\"x is currently:\", x)\n",
    "    print(\"x is still less than 10, adding 1 to x\")\n",
    "    x += 1"
   ]
  },
  {
   "cell_type": "code",
   "execution_count": 4,
   "id": "5f55b442-6250-4ca4-b626-09fdde8a7ed8",
   "metadata": {},
   "outputs": [
    {
     "name": "stdout",
     "output_type": "stream",
     "text": [
      "5 * 1 = 5\n",
      "5 * 2 = 10\n",
      "5 * 3 = 15\n",
      "5 * 4 = 20\n",
      "5 * 5 = 25\n",
      "5 * 6 = 30\n",
      "5 * 7 = 35\n",
      "5 * 8 = 40\n",
      "5 * 9 = 45\n",
      "5 * 10 = 50\n",
      "5 * 11 = 55\n",
      "5 * 12 = 60\n"
     ]
    }
   ],
   "source": [
    "# print out 5 multiplication table\n",
    "\n",
    "mul = 5\n",
    "max_num = 12\n",
    "start_point = 1\n",
    "\n",
    "while start_point <= max_num:\n",
    "    ans = mul * start_point\n",
    "    print(f\"{mul} * {start_point} = {ans}\")\n",
    "    start_point += 1\n"
   ]
  },
  {
   "cell_type": "markdown",
   "id": "a8d874fa-82be-4e33-a6e5-2b5e41b44531",
   "metadata": {},
   "source": [
    "## Break and continue"
   ]
  },
  {
   "cell_type": "code",
   "execution_count": 10,
   "id": "666702e4-5b40-49c3-89b2-f662861af98d",
   "metadata": {},
   "outputs": [
    {
     "name": "stdout",
     "output_type": "stream",
     "text": [
      "x is currently.  0\n",
      "X is still less than 10, adding 1 to x\n",
      "Continuing...\n",
      "x is currently.  1\n",
      "X is still less than 10, adding 1 to x\n",
      "Continuing...\n",
      "x is currently.  2\n",
      "X is still less than 10, adding 1 to x\n",
      "x==3\n",
      "x is currently.  3\n",
      "X is still less than 10, adding 1 to x\n",
      "Continuing...\n",
      "x is currently.  4\n",
      "X is still less than 10, adding 1 to x\n",
      "Continuing...\n",
      "x is currently.  5\n",
      "X is still less than 10, adding 1 to x\n",
      "Continuing...\n",
      "x is currently.  6\n",
      "X is still less than 10, adding 1 to x\n",
      "Continuing...\n",
      "x is currently.  7\n",
      "X is still less than 10, adding 1 to x\n",
      "Continuing...\n",
      "x is currently.  8\n",
      "X is still less than 10, adding 1 to x\n",
      "Continuing...\n",
      "x is currently.  9\n",
      "X is still less than 10, adding 1 to x\n",
      "Continuing...\n"
     ]
    }
   ],
   "source": [
    "x = 0\n",
    "\n",
    "while x < 10:\n",
    "    print(\"x is currently. \", x)\n",
    "    print(\"X is still less than 10, adding 1 to x\")\n",
    "    x += 1\n",
    "    if x == 3:\n",
    "        print(\"x==3\")\n",
    "    else: \n",
    "        print(\"Continuing...\")\n",
    "        continue\n",
    "        "
   ]
  },
  {
   "cell_type": "code",
   "execution_count": 11,
   "id": "0c7ea38b-1921-41f6-af5c-5cd9c14a2d68",
   "metadata": {},
   "outputs": [
    {
     "name": "stdout",
     "output_type": "stream",
     "text": [
      "x is currently.  0\n",
      "X is still less than 10, adding 1 to x\n",
      "Continuing...\n",
      "x is currently.  1\n",
      "X is still less than 10, adding 1 to x\n",
      "Continuing...\n",
      "x is currently.  2\n",
      "X is still less than 10, adding 1 to x\n",
      "x==3\n"
     ]
    }
   ],
   "source": [
    "x = 0\n",
    "\n",
    "while x < 10:\n",
    "    print(\"x is currently. \", x)\n",
    "    print(\"X is still less than 10, adding 1 to x\")\n",
    "    x += 1\n",
    "    if x == 3: \n",
    "        print(\"x==3\")\n",
    "        break\n",
    "    else: \n",
    "        print(\"Continuing...\")\n",
    "        continue\n"
   ]
  },
  {
   "cell_type": "code",
   "execution_count": null,
   "id": "6d9e553d-24b0-481d-b8d4-549358e3e22a",
   "metadata": {},
   "outputs": [],
   "source": []
  }
 ],
 "metadata": {
  "kernelspec": {
   "display_name": "Python 3 (ipykernel)",
   "language": "python",
   "name": "python3"
  },
  "language_info": {
   "codemirror_mode": {
    "name": "ipython",
    "version": 3
   },
   "file_extension": ".py",
   "mimetype": "text/x-python",
   "name": "python",
   "nbconvert_exporter": "python",
   "pygments_lexer": "ipython3",
   "version": "3.12.7"
  }
 },
 "nbformat": 4,
 "nbformat_minor": 5
}
