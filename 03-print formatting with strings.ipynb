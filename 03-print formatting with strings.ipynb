{
 "cells": [
  {
   "cell_type": "markdown",
   "id": "16f75974",
   "metadata": {},
   "source": [
    "#strings formatting"
   ]
  },
  {
   "cell_type": "markdown",
   "id": "a7062f11",
   "metadata": {},
   "source": [
    "using . format() method"
   ]
  },
  {
   "cell_type": "code",
   "execution_count": 1,
   "id": "50f728bf",
   "metadata": {},
   "outputs": [
    {
     "name": "stdout",
     "output_type": "stream",
     "text": [
      "This is a string with an insert\n"
     ]
    }
   ],
   "source": [
    "print(\"This is a string with an {}\". format(\"insert\"))"
   ]
  },
  {
   "cell_type": "code",
   "execution_count": 2,
   "id": "234dad83",
   "metadata": {},
   "outputs": [
    {
     "name": "stdout",
     "output_type": "stream",
     "text": [
      "first object 1, second object: Two, Third object12.3\n"
     ]
    }
   ],
   "source": [
    "print(\"first object {a}, second object: {b}, Third object{c}\". format(a=1, b=\"Two\", c=12.3))"
   ]
  },
  {
   "cell_type": "markdown",
   "id": "5975a541",
   "metadata": {},
   "source": [
    " using formatted strings literals (f-strings)"
   ]
  },
  {
   "cell_type": "code",
   "execution_count": 8,
   "id": "a7e8e331",
   "metadata": {},
   "outputs": [
    {
     "name": "stdout",
     "output_type": "stream",
     "text": [
      "He said is name is oladapo.\n"
     ]
    }
   ],
   "source": [
    "name = \"oladapo\"\n",
    "\n",
    "print(f\"He said is name is {name}.\")"
   ]
  },
  {
   "cell_type": "code",
   "execution_count": 9,
   "id": "5044882d",
   "metadata": {},
   "outputs": [],
   "source": [
    "age = 32\n",
    "cgpa = 5.0"
   ]
  },
  {
   "cell_type": "code",
   "execution_count": 10,
   "id": "2434f391",
   "metadata": {},
   "outputs": [
    {
     "data": {
      "text/plain": [
       "32"
      ]
     },
     "execution_count": 10,
     "metadata": {},
     "output_type": "execute_result"
    }
   ],
   "source": [
    "age"
   ]
  },
  {
   "cell_type": "code",
   "execution_count": 11,
   "id": "e9620e3a",
   "metadata": {},
   "outputs": [
    {
     "data": {
      "text/plain": [
       "5.0"
      ]
     },
     "execution_count": 11,
     "metadata": {},
     "output_type": "execute_result"
    }
   ],
   "source": [
    "cgpa"
   ]
  },
  {
   "cell_type": "code",
   "execution_count": 12,
   "id": "79914d74",
   "metadata": {},
   "outputs": [
    {
     "name": "stdout",
     "output_type": "stream",
     "text": [
      "oladapo is 32years and he has a cgpa of 5.0 in is 100l first semester\n"
     ]
    }
   ],
   "source": [
    "print(f\"{name} is {age}years and he has a cgpa of {cgpa} in is 100l first semester\")"
   ]
  },
  {
   "cell_type": "markdown",
   "id": "f1d9c7b5",
   "metadata": {},
   "source": [
    "using concatination method (you cant concatinate  string and interger or floating point together unless you turn it to string) "
   ]
  },
  {
   "cell_type": "code",
   "execution_count": 13,
   "id": "26f856f0",
   "metadata": {},
   "outputs": [
    {
     "name": "stdout",
     "output_type": "stream",
     "text": [
      "oladapo is 32years and he has a cgpa of 5.0 in is 100l first semester\n"
     ]
    }
   ],
   "source": [
    "print(name + \" is \" + str(age) + \"years and he has a cgpa of \" + str(cgpa) + \" in is 100l first semester\")"
   ]
  },
  {
   "cell_type": "code",
   "execution_count": null,
   "id": "b43669c4",
   "metadata": {},
   "outputs": [],
   "source": []
  }
 ],
 "metadata": {
  "kernelspec": {
   "display_name": "Python 3 (ipykernel)",
   "language": "python",
   "name": "python3"
  },
  "language_info": {
   "codemirror_mode": {
    "name": "ipython",
    "version": 3
   },
   "file_extension": ".py",
   "mimetype": "text/x-python",
   "name": "python",
   "nbconvert_exporter": "python",
   "pygments_lexer": "ipython3",
   "version": "3.9.7"
  }
 },
 "nbformat": 4,
 "nbformat_minor": 5
}
