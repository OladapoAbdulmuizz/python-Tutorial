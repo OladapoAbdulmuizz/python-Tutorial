{
 "cells": [
  {
   "cell_type": "code",
   "execution_count": 1,
   "id": "724c3b24-0ebe-40a0-8871-ada044961592",
   "metadata": {},
   "outputs": [
    {
     "name": "stdout",
     "output_type": "stream",
     "text": [
      "it was true\n"
     ]
    }
   ],
   "source": [
    "if True:\n",
    "    print(\"it was true\")"
   ]
  },
  {
   "cell_type": "code",
   "execution_count": 6,
   "id": "8da87afc-1e21-4cfd-b95b-f6458e070cf5",
   "metadata": {},
   "outputs": [
    {
     "name": "stdout",
     "output_type": "stream",
     "text": [
      "I will be printed out incase the result is false\n"
     ]
    }
   ],
   "source": [
    "result = False\n",
    "\n",
    "if result:\n",
    "    print(\"Result was true\")\n",
    "else:\n",
    "    print(\"I will be printed out incase the result is false\")     "
   ]
  },
  {
   "cell_type": "code",
   "execution_count": 13,
   "id": "8ce65749-b07e-4bb7-a2dd-8dd80e0a16a2",
   "metadata": {},
   "outputs": [
    {
     "name": "stdin",
     "output_type": "stream",
     "text": [
      "please enter the location where you want to withdraw from bank\n"
     ]
    },
    {
     "name": "stdout",
     "output_type": "stream",
     "text": [
      "Your location is: bank\n",
      "welcome to the bank\n"
     ]
    }
   ],
   "source": [
    "# chcek if a user want to deposit from a bank, we just display welcome to the bank\n",
    "\n",
    "loc = input(\"please enter the location where you want to withdraw from\")\n",
    "print(f\"Your location is: {loc}\")\n",
    "\n",
    "if loc == \"pos\":\n",
    "    print(\"welcome to the Pos Terminal\")\n",
    "elif loc== \"bank\":\n",
    "    print(\"welcome to the bank\")\n",
    "else:\n",
    "    print(\"where are you\")"
   ]
  },
  {
   "cell_type": "code",
   "execution_count": 17,
   "id": "4cd71750-1ec5-4333-a1e5-7dc0e1f2f54e",
   "metadata": {},
   "outputs": [
    {
     "name": "stdout",
     "output_type": "stream",
     "text": [
      "welcome oladapo\n"
     ]
    }
   ],
   "source": [
    "person = \"oladapo\"\n",
    "\n",
    "if person == \"oladapo\":\n",
    "    print(\"welcome oladapo\")\n",
    "else:\n",
    "    print (\"welcome, whats your name?\")"
   ]
  },
  {
   "cell_type": "code",
   "execution_count": 9,
   "id": "4793dc15-c83c-4322-ac22-c3e7d5e8b96c",
   "metadata": {},
   "outputs": [
    {
     "name": "stdout",
     "output_type": "stream",
     "text": [
      "welcome oladapo\n"
     ]
    }
   ],
   "source": [
    "person = \"oladapo\"\n",
    "\n",
    "if person == \"oladapo\":\n",
    "    print(\"welcome oladapo\")\n",
    "else:\n",
    "    print (\"welcome, whats your name?\")"
   ]
  },
  {
   "cell_type": "code",
   "execution_count": 2,
   "id": "291aea27-1c27-4d94-b482-36574a0644de",
   "metadata": {},
   "outputs": [
    {
     "data": {
      "text/plain": [
       "0"
      ]
     },
     "execution_count": 2,
     "metadata": {},
     "output_type": "execute_result"
    }
   ],
   "source": [
    "10 % 2"
   ]
  },
  {
   "cell_type": "code",
   "execution_count": 4,
   "id": "89b75f71-8a3c-4724-87bc-269c6b74ad51",
   "metadata": {},
   "outputs": [
    {
     "name": "stdin",
     "output_type": "stream",
     "text": [
      "Enter a number to check if its Even or odd: 26\n"
     ]
    },
    {
     "name": "stdout",
     "output_type": "stream",
     "text": [
      "The number 26 you entered is an even number!\n"
     ]
    }
   ],
   "source": [
    "# write a python code to check if the user input is an even or odd number\n",
    "# Any number divide by 2 and the reminder is 0 is an even number \n",
    "# But any number divide by 2 and the reminder is not 0 is an odd number\n",
    "\n",
    "user_input = int(input(\"Enter a number to check if its Even or odd:\"))\n",
    "\n",
    "if user_input % 2 == 0:\n",
    "    print(f\"The number {user_input} you entered is an even number!\")\n",
    "else:\n",
    "    print(f\"The number {user_input} you entered is an odd number!\")"
   ]
  },
  {
   "cell_type": "code",
   "execution_count": 10,
   "id": "9751fd64-eb60-419d-a8c0-e057ca8da485",
   "metadata": {},
   "outputs": [
    {
     "name": "stdout",
     "output_type": "stream",
     "text": [
      "The number is positve\n"
     ]
    }
   ],
   "source": [
    "# write a python code to determine if a number is positive, negative or neutral\n",
    "\n",
    "number = 10\n",
    "if number == 0:\n",
    "    print(\"The number is neutral\")\n",
    "elif number > 0:\n",
    "    print(\"The number is positve\")\n",
    "else:\n",
    "    print(\"The number is negative\")"
   ]
  },
  {
   "cell_type": "code",
   "execution_count": null,
   "id": "5a644688-9b10-4279-831e-60770eb7dece",
   "metadata": {},
   "outputs": [],
   "source": []
  }
 ],
 "metadata": {
  "kernelspec": {
   "display_name": "Python 3 (ipykernel)",
   "language": "python",
   "name": "python3"
  },
  "language_info": {
   "codemirror_mode": {
    "name": "ipython",
    "version": 3
   },
   "file_extension": ".py",
   "mimetype": "text/x-python",
   "name": "python",
   "nbconvert_exporter": "python",
   "pygments_lexer": "ipython3",
   "version": "3.12.7"
  }
 },
 "nbformat": 4,
 "nbformat_minor": 5
}
