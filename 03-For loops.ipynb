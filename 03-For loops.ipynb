{
 "cells": [
  {
   "cell_type": "markdown",
   "id": "d6eabaaa-2247-48c2-a6b6-1b9c6bea6382",
   "metadata": {},
   "source": [
    "## FOR LOOPS\n",
    "\n",
    "(iterate or for repetative tasks)\n",
    " \n",
    "for item in object:\n",
    "    statement to do stuffs\n",
    "\n",
    " # Example 1"
   ]
  },
  {
   "cell_type": "code",
   "execution_count": 1,
   "id": "4adc6a8b-e650-4107-bb2d-bf315a1af351",
   "metadata": {},
   "outputs": [],
   "source": [
    " \n",
    "list1 = [1,2,3,4,5,6,7,8,9,10]"
   ]
  },
  {
   "cell_type": "code",
   "execution_count": 2,
   "id": "469517cd-1cca-4ded-a430-88ee1819b147",
   "metadata": {},
   "outputs": [
    {
     "data": {
      "text/plain": [
       "1"
      ]
     },
     "execution_count": 2,
     "metadata": {},
     "output_type": "execute_result"
    }
   ],
   "source": [
    "list1[0]"
   ]
  },
  {
   "cell_type": "code",
   "execution_count": 3,
   "id": "20c7624d-1e1d-4593-a95c-e2e360620340",
   "metadata": {},
   "outputs": [
    {
     "data": {
      "text/plain": [
       "2"
      ]
     },
     "execution_count": 3,
     "metadata": {},
     "output_type": "execute_result"
    }
   ],
   "source": [
    "list1[1]"
   ]
  },
  {
   "cell_type": "code",
   "execution_count": 4,
   "id": "f60eb6e2-8664-4c77-98a4-ff52b85bdc77",
   "metadata": {},
   "outputs": [
    {
     "name": "stdout",
     "output_type": "stream",
     "text": [
      "1\n",
      "2\n",
      "3\n",
      "4\n",
      "5\n",
      "6\n",
      "7\n",
      "8\n",
      "9\n",
      "10\n"
     ]
    }
   ],
   "source": [
    "for num in list1:\n",
    "    print(num)"
   ]
  },
  {
   "cell_type": "code",
   "execution_count": 5,
   "id": "7da281de-529b-4c27-85a2-183f93ed864c",
   "metadata": {},
   "outputs": [
    {
     "data": {
      "text/plain": [
       "0"
      ]
     },
     "execution_count": 5,
     "metadata": {},
     "output_type": "execute_result"
    }
   ],
   "source": [
    "# Example 2 \n",
    "10 % 2"
   ]
  },
  {
   "cell_type": "markdown",
   "id": "ad6c400e-32cd-48b8-9d51-c0198f24cc80",
   "metadata": {},
   "source": [
    "## Example 2 \n",
    "\n",
    "printout the even numbers and odd numbers in the list\n",
    "\n"
   ]
  },
  {
   "cell_type": "code",
   "execution_count": 6,
   "id": "c6faa5fe-b744-4a05-9339-429e20a57ab1",
   "metadata": {},
   "outputs": [
    {
     "name": "stdout",
     "output_type": "stream",
     "text": [
      "The number 1 is an odd number\n",
      "The number 2 is an even number\n",
      "The number 3 is an odd number\n",
      "The number 4 is an even number\n",
      "The number 5 is an odd number\n",
      "The number 6 is an even number\n",
      "The number 7 is an odd number\n",
      "The number 8 is an even number\n",
      "The number 9 is an odd number\n",
      "The number 10 is an even number\n"
     ]
    }
   ],
   "source": [
    "for num in list1:\n",
    "    if num % 2 == 0:\n",
    "        print(f\"The number {num} is an even number\")\n",
    "    else:\n",
    "        print(f\"The number {num} is an odd number\")"
   ]
  },
  {
   "cell_type": "markdown",
   "id": "321378be-f147-4eef-8662-b7b1038fdbe8",
   "metadata": {},
   "source": [
    "## Example 3\n",
    "\n",
    "Add all the items in a list together and display the result "
   ]
  },
  {
   "cell_type": "code",
   "execution_count": 7,
   "id": "658f4610-3be1-4c6e-912b-6d6dfbaec774",
   "metadata": {},
   "outputs": [
    {
     "data": {
      "text/plain": [
       "[1, 2, 3, 4, 5, 6, 7, 8, 9, 10]"
      ]
     },
     "execution_count": 7,
     "metadata": {},
     "output_type": "execute_result"
    }
   ],
   "source": [
    "list1"
   ]
  },
  {
   "cell_type": "code",
   "execution_count": 10,
   "id": "2b1fddcc-4b7d-46c1-816a-3c77622588c0",
   "metadata": {},
   "outputs": [],
   "source": [
    "list_sum = 0\n",
    "\n",
    "for num in list1:\n",
    "    list_sum = list_sum + num"
   ]
  },
  {
   "cell_type": "code",
   "execution_count": 11,
   "id": "d72b13f3-d5c9-4d9c-b57b-b69b065a356e",
   "metadata": {},
   "outputs": [
    {
     "name": "stdout",
     "output_type": "stream",
     "text": [
      "55\n"
     ]
    }
   ],
   "source": [
    "print(list_sum)"
   ]
  },
  {
   "cell_type": "markdown",
   "id": "12706887-be65-4f00-b149-3eff4f4fd6b6",
   "metadata": {},
   "source": [
    "## Example 4"
   ]
  },
  {
   "cell_type": "markdown",
   "id": "dc3ae3ad-6565-409a-9938-6620fe688916",
   "metadata": {},
   "source": [
    "Let's see how we can use for loops with strings"
   ]
  },
  {
   "cell_type": "code",
   "execution_count": 12,
   "id": "2c2b686f-c8a6-4032-aff4-6671073f2161",
   "metadata": {},
   "outputs": [
    {
     "name": "stdout",
     "output_type": "stream",
     "text": [
      "T\n",
      "h\n",
      "i\n",
      "s\n",
      " \n",
      "i\n",
      "s\n",
      " \n",
      "a\n",
      " \n",
      "s\n",
      "t\n",
      "r\n",
      "i\n",
      "n\n",
      "g\n"
     ]
    }
   ],
   "source": [
    "for letter in \"This is a string\":\n",
    "    print(letter)"
   ]
  },
  {
   "cell_type": "markdown",
   "id": "c49e1424-6d64-4845-8d99-6e2db8207f29",
   "metadata": {},
   "source": [
    "## Example 5\n",
    "iterate through a tuple and print out the items there"
   ]
  },
  {
   "cell_type": "code",
   "execution_count": 13,
   "id": "3b453b06-9c6f-4163-961d-dff853481d27",
   "metadata": {},
   "outputs": [
    {
     "name": "stdout",
     "output_type": "stream",
     "text": [
      "1\n",
      "2\n",
      "3\n",
      "4\n",
      "5\n"
     ]
    }
   ],
   "source": [
    "tup = (1, 2, 3, 4, 5)\n",
    "\n",
    "for t in tup:\n",
    "    print(t)"
   ]
  },
  {
   "cell_type": "markdown",
   "id": "b672d223-f1de-4a45-a237-7494a4c1a69d",
   "metadata": {},
   "source": [
    "## Example 6\n",
    "print out all the sum of the even numbers and the odd numbers in a list"
   ]
  },
  {
   "cell_type": "code",
   "execution_count": 14,
   "id": "ceb42ebc-6522-4ddc-81e1-8d39844f6c51",
   "metadata": {},
   "outputs": [
    {
     "data": {
      "text/plain": [
       "[1, 2, 3, 4, 5, 6, 7, 8, 9, 10]"
      ]
     },
     "execution_count": 14,
     "metadata": {},
     "output_type": "execute_result"
    }
   ],
   "source": [
    "list1"
   ]
  },
  {
   "cell_type": "code",
   "execution_count": 21,
   "id": "05353b63-c4ea-4d50-afac-7c5c17c49314",
   "metadata": {},
   "outputs": [
    {
     "data": {
      "text/plain": [
       "30"
      ]
     },
     "execution_count": 21,
     "metadata": {},
     "output_type": "execute_result"
    }
   ],
   "source": [
    "# doing it manually for odd number\n",
    "\n",
    "list1[1] + list1[3] + list1[5] + list1[7] + list1[9] "
   ]
  },
  {
   "cell_type": "code",
   "execution_count": 22,
   "id": "4b246c7e-a08d-48a8-8b19-165127bf98c8",
   "metadata": {},
   "outputs": [
    {
     "data": {
      "text/plain": [
       "25"
      ]
     },
     "execution_count": 22,
     "metadata": {},
     "output_type": "execute_result"
    }
   ],
   "source": [
    "# doing it manually for even number\n",
    "\n",
    "list1[2] + list1[4] + list1[6] + list1[8] + list1[0]"
   ]
  },
  {
   "cell_type": "code",
   "execution_count": 23,
   "id": "0901d2e9-1538-4940-b0e7-51699faa4186",
   "metadata": {},
   "outputs": [
    {
     "name": "stdout",
     "output_type": "stream",
     "text": [
      "Total even sum is: 30\n",
      "Total odd sum is: 25\n"
     ]
    }
   ],
   "source": [
    "# using for loop approach\n",
    "even_sum = 0\n",
    "odd_sum = 0\n",
    "\n",
    "for num in list1:\n",
    "    if num % 2 == 0:\n",
    "        even_sum += num    # same as even_sum = even_sum + num\n",
    "    else:\n",
    "        odd_sum += num\n",
    "print(f\"Total even sum is: {even_sum}\")\n",
    "print(f\"Total odd sum is: {odd_sum}\")"
   ]
  },
  {
   "cell_type": "code",
   "execution_count": 24,
   "id": "3b64e22e-73dc-4d0e-a3af-231f32722d9a",
   "metadata": {},
   "outputs": [],
   "source": [
    "list1 = [1, 2, 3, 4, 7, 5, 6, 7, 8, 9, 10]"
   ]
  },
  {
   "cell_type": "code",
   "execution_count": 25,
   "id": "d08ca80f-a09b-4f3b-af7b-b9fe7e0f3dd9",
   "metadata": {},
   "outputs": [
    {
     "data": {
      "text/plain": [
       "[1, 2, 3, 4, 7, 5, 6, 7, 8, 9, 10]"
      ]
     },
     "execution_count": 25,
     "metadata": {},
     "output_type": "execute_result"
    }
   ],
   "source": [
    "list1"
   ]
  },
  {
   "cell_type": "code",
   "execution_count": 26,
   "id": "c0d0db43-47fe-4819-96a4-f81dcbe09949",
   "metadata": {},
   "outputs": [
    {
     "data": {
      "text/plain": [
       "34"
      ]
     },
     "execution_count": 26,
     "metadata": {},
     "output_type": "execute_result"
    }
   ],
   "source": [
    "list1[1] + list1[3] + list1[5] + list1[7] + list1[7] + list1[9]"
   ]
  },
  {
   "cell_type": "code",
   "execution_count": 27,
   "id": "e215e8a1-f0be-435d-8255-d565fff18e84",
   "metadata": {},
   "outputs": [
    {
     "data": {
      "text/plain": [
       "25"
      ]
     },
     "execution_count": 27,
     "metadata": {},
     "output_type": "execute_result"
    }
   ],
   "source": [
    "list1[0] + list1[2] + list1[4] + list1[6] + list1[8]"
   ]
  },
  {
   "cell_type": "code",
   "execution_count": 28,
   "id": "b9bc3f60-e610-4dc0-ba6c-68011f361b9f",
   "metadata": {},
   "outputs": [
    {
     "name": "stdout",
     "output_type": "stream",
     "text": [
      "Total even sum is: 30\n",
      "Total odd sum is: 32\n"
     ]
    }
   ],
   "source": [
    "# Using for loop approach\n",
    "even_sum = 0\n",
    "odd_sum = 0\n",
    "\n",
    "for num in list1:\n",
    "    if num % 2 == 0:\n",
    "        even_sum += num  #same as: even_sum = even_sum + num\n",
    "    else:\n",
    "        odd_sum += num\n",
    "\n",
    "print(f\"Total even sum is: {even_sum}\")\n",
    "print(f\"Total odd sum is: {odd_sum}\")"
   ]
  },
  {
   "cell_type": "code",
   "execution_count": null,
   "id": "2dc5a192-8d8a-4294-af02-bcc52da7c12c",
   "metadata": {},
   "outputs": [],
   "source": []
  }
 ],
 "metadata": {
  "kernelspec": {
   "display_name": "Python 3 (ipykernel)",
   "language": "python",
   "name": "python3"
  },
  "language_info": {
   "codemirror_mode": {
    "name": "ipython",
    "version": 3
   },
   "file_extension": ".py",
   "mimetype": "text/x-python",
   "name": "python",
   "nbconvert_exporter": "python",
   "pygments_lexer": "ipython3",
   "version": "3.12.7"
  }
 },
 "nbformat": 4,
 "nbformat_minor": 5
}
