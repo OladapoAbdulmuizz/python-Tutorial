{
 "cells": [
  {
   "cell_type": "markdown",
   "id": "a25fba11",
   "metadata": {},
   "source": [
    "WELCOME TO PYTHON PROGRAMMING CLASS\n",
    "# Heading 1\n",
    "## Heading 2\n",
    "### Heading 3\n",
    "#### Heading 4"
   ]
  },
  {
   "cell_type": "markdown",
   "id": "de7e1a3b",
   "metadata": {},
   "source": [
    "Oladapo Abdulmuizz"
   ]
  },
  {
   "cell_type": "code",
   "execution_count": 5,
   "id": "f954df64",
   "metadata": {},
   "outputs": [
    {
     "name": "stdout",
     "output_type": "stream",
     "text": [
      "HELLO WORLD\n"
     ]
    }
   ],
   "source": [
    "print(\"HELLO WORLD\")"
   ]
  },
  {
   "cell_type": "markdown",
   "id": "1dd7284a",
   "metadata": {},
   "source": [
    "What is python"
   ]
  },
  {
   "cell_type": "code",
   "execution_count": 6,
   "id": "f48461a8",
   "metadata": {},
   "outputs": [
    {
     "name": "stdout",
     "output_type": "stream",
     "text": [
      "python is a programming language\n"
     ]
    }
   ],
   "source": [
    "print(\"python is a programming language\")"
   ]
  }
 ],
 "metadata": {
  "kernelspec": {
   "display_name": "Python 3 (ipykernel)",
   "language": "python",
   "name": "python3"
  },
  "language_info": {
   "codemirror_mode": {
    "name": "ipython",
    "version": 3
   },
   "file_extension": ".py",
   "mimetype": "text/x-python",
   "name": "python",
   "nbconvert_exporter": "python",
   "pygments_lexer": "ipython3",
   "version": "3.9.7"
  }
 },
 "nbformat": 4,
 "nbformat_minor": 5
}
