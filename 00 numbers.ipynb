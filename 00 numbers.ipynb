{
 "cells": [
  {
   "cell_type": "markdown",
   "id": "9c6504ee",
   "metadata": {},
   "source": [
    "Basic arthimetics"
   ]
  },
  {
   "cell_type": "code",
   "execution_count": 2,
   "id": "6aa0dbaa",
   "metadata": {},
   "outputs": [
    {
     "data": {
      "text/plain": [
       "5"
      ]
     },
     "execution_count": 2,
     "metadata": {},
     "output_type": "execute_result"
    }
   ],
   "source": [
    "# addition\n",
    "2+3"
   ]
  },
  {
   "cell_type": "code",
   "execution_count": 3,
   "id": "d0bf8884",
   "metadata": {},
   "outputs": [
    {
     "data": {
      "text/plain": [
       "15"
      ]
     },
     "execution_count": 3,
     "metadata": {},
     "output_type": "execute_result"
    }
   ],
   "source": [
    "# multiplication\n",
    "3*5"
   ]
  },
  {
   "cell_type": "code",
   "execution_count": 4,
   "id": "9c1b3aba",
   "metadata": {},
   "outputs": [
    {
     "data": {
      "text/plain": [
       "20"
      ]
     },
     "execution_count": 4,
     "metadata": {},
     "output_type": "execute_result"
    }
   ],
   "source": [
    "# subtraction\n",
    "25-5"
   ]
  },
  {
   "cell_type": "code",
   "execution_count": 6,
   "id": "6a0f19d0",
   "metadata": {},
   "outputs": [
    {
     "data": {
      "text/plain": [
       "0.8"
      ]
     },
     "execution_count": 6,
     "metadata": {},
     "output_type": "execute_result"
    }
   ],
   "source": [
    "# division\n",
    "4/5"
   ]
  },
  {
   "cell_type": "code",
   "execution_count": 9,
   "id": "0bd4e511",
   "metadata": {},
   "outputs": [
    {
     "data": {
      "text/plain": [
       "1"
      ]
     },
     "execution_count": 9,
     "metadata": {},
     "output_type": "execute_result"
    }
   ],
   "source": [
    "# floor division it is used to remove numbers after the decimal i.e it presents the integers only\n",
    "7//5"
   ]
  },
  {
   "cell_type": "code",
   "execution_count": 10,
   "id": "50dc35b6",
   "metadata": {},
   "outputs": [
    {
     "data": {
      "text/plain": [
       "1.4"
      ]
     },
     "execution_count": 10,
     "metadata": {},
     "output_type": "execute_result"
    }
   ],
   "source": [
    "7/5"
   ]
  },
  {
   "cell_type": "code",
   "execution_count": 11,
   "id": "db679318",
   "metadata": {},
   "outputs": [
    {
     "data": {
      "text/plain": [
       "1"
      ]
     },
     "execution_count": 11,
     "metadata": {},
     "output_type": "execute_result"
    }
   ],
   "source": [
    "# modulor operator this shows the reminder of a division set i.e it returns the reminder of the division \n",
    "3%2"
   ]
  },
  {
   "cell_type": "code",
   "execution_count": 12,
   "id": "8d1ef2a5",
   "metadata": {},
   "outputs": [
    {
     "data": {
      "text/plain": [
       "0"
      ]
     },
     "execution_count": 12,
     "metadata": {},
     "output_type": "execute_result"
    }
   ],
   "source": [
    "6%3"
   ]
  },
  {
   "cell_type": "code",
   "execution_count": 13,
   "id": "4f810f07",
   "metadata": {},
   "outputs": [
    {
     "data": {
      "text/plain": [
       "5"
      ]
     },
     "execution_count": 13,
     "metadata": {},
     "output_type": "execute_result"
    }
   ],
   "source": [
    "5%6"
   ]
  },
  {
   "cell_type": "code",
   "execution_count": 14,
   "id": "092c0a47",
   "metadata": {},
   "outputs": [
    {
     "data": {
      "text/plain": [
       "7"
      ]
     },
     "execution_count": 14,
     "metadata": {},
     "output_type": "execute_result"
    }
   ],
   "source": [
    "7%9"
   ]
  },
  {
   "cell_type": "code",
   "execution_count": 15,
   "id": "c896cf67",
   "metadata": {},
   "outputs": [
    {
     "data": {
      "text/plain": [
       "4"
      ]
     },
     "execution_count": 15,
     "metadata": {},
     "output_type": "execute_result"
    }
   ],
   "source": [
    "# powers \n",
    "2**2"
   ]
  },
  {
   "cell_type": "code",
   "execution_count": 16,
   "id": "89e14e4a",
   "metadata": {},
   "outputs": [
    {
     "data": {
      "text/plain": [
       "2.0"
      ]
     },
     "execution_count": 16,
     "metadata": {},
     "output_type": "execute_result"
    }
   ],
   "source": [
    "# powers can also be done as\n",
    "4**0.5"
   ]
  },
  {
   "cell_type": "code",
   "execution_count": 19,
   "id": "3e290645",
   "metadata": {},
   "outputs": [
    {
     "data": {
      "text/plain": [
       "156"
      ]
     },
     "execution_count": 19,
     "metadata": {},
     "output_type": "execute_result"
    }
   ],
   "source": [
    "# you can use parenthesis i.e brackets to specify tyhe orders that you want your code to be specified in \n",
    "(2+10)*(10+3)"
   ]
  },
  {
   "cell_type": "markdown",
   "id": "405d9b1d",
   "metadata": {},
   "source": [
    "Variable assignments \n",
    "how to assign numbers and create variables"
   ]
  },
  {
   "cell_type": "code",
   "execution_count": 20,
   "id": "687966a1",
   "metadata": {},
   "outputs": [],
   "source": [
    "# create an object called \"a\" assign it the number 3\n",
    "a=5"
   ]
  },
  {
   "cell_type": "code",
   "execution_count": 22,
   "id": "32ad768e",
   "metadata": {},
   "outputs": [
    {
     "data": {
      "text/plain": [
       "5"
      ]
     },
     "execution_count": 22,
     "metadata": {},
     "output_type": "execute_result"
    }
   ],
   "source": [
    "a # calling my variables"
   ]
  },
  {
   "cell_type": "code",
   "execution_count": 23,
   "id": "02d98400",
   "metadata": {},
   "outputs": [
    {
     "data": {
      "text/plain": [
       "10"
      ]
     },
     "execution_count": 23,
     "metadata": {},
     "output_type": "execute_result"
    }
   ],
   "source": [
    "a+a"
   ]
  },
  {
   "cell_type": "code",
   "execution_count": 24,
   "id": "024154d5",
   "metadata": {},
   "outputs": [
    {
     "data": {
      "text/plain": [
       "5"
      ]
     },
     "execution_count": 24,
     "metadata": {},
     "output_type": "execute_result"
    }
   ],
   "source": [
    "a"
   ]
  },
  {
   "cell_type": "markdown",
   "id": "36ddaa92",
   "metadata": {},
   "source": [
    "what happens if we reassign another value to same variables?"
   ]
  },
  {
   "cell_type": "code",
   "execution_count": 25,
   "id": "84d0e61a",
   "metadata": {},
   "outputs": [],
   "source": [
    "a=10 #reassignments "
   ]
  },
  {
   "cell_type": "code",
   "execution_count": 26,
   "id": "bc5e8050",
   "metadata": {},
   "outputs": [
    {
     "data": {
      "text/plain": [
       "10"
      ]
     },
     "execution_count": 26,
     "metadata": {},
     "output_type": "execute_result"
    }
   ],
   "source": [
    "a"
   ]
  },
  {
   "cell_type": "code",
   "execution_count": 1,
   "id": "0ec11449",
   "metadata": {},
   "outputs": [],
   "source": [
    "# write a simple program to calculate tax\n",
    "my_income = 100\n",
    "\n",
    "tax_rate = 0.1\n",
    "\n",
    "my_tax = my_income * tax_rate"
   ]
  },
  {
   "cell_type": "code",
   "execution_count": 2,
   "id": "f8810f8f",
   "metadata": {},
   "outputs": [
    {
     "data": {
      "text/plain": [
       "10.0"
      ]
     },
     "execution_count": 2,
     "metadata": {},
     "output_type": "execute_result"
    }
   ],
   "source": [
    "# show my tax\n",
    "my_tax"
   ]
  },
  {
   "cell_type": "code",
   "execution_count": null,
   "id": "4c9930d5",
   "metadata": {},
   "outputs": [],
   "source": []
  }
 ],
 "metadata": {
  "kernelspec": {
   "display_name": "Python 3 (ipykernel)",
   "language": "python",
   "name": "python3"
  },
  "language_info": {
   "codemirror_mode": {
    "name": "ipython",
    "version": 3
   },
   "file_extension": ".py",
   "mimetype": "text/x-python",
   "name": "python",
   "nbconvert_exporter": "python",
   "pygments_lexer": "ipython3",
   "version": "3.9.7"
  }
 },
 "nbformat": 4,
 "nbformat_minor": 5
}
